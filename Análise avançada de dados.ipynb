{
 "cells": [
  {
   "cell_type": "markdown",
   "id": "2caea780-30bd-4c54-b0b3-c6c844995655",
   "metadata": {},
   "source": [
    "# análise exploratória com insights\n",
    "**Portfólio feito por Matheus Amaral da Rocha**"
   ]
  },
  {
   "cell_type": "code",
   "execution_count": 31,
   "id": "b2255990-ff61-47b6-adc0-506c04079fd7",
   "metadata": {},
   "outputs": [],
   "source": [
    "# Importando a biblioteca mais importante para todos nós, analista / cientista de dados.\n",
    "import pandas as pd"
   ]
  },
  {
   "cell_type": "code",
   "execution_count": 32,
   "id": "e3f5967c-ddf3-4b68-979e-cdfdd6e13b05",
   "metadata": {},
   "outputs": [],
   "source": [
    "# Armazenando o dataframe na nossa variável chamada data ( poderia ser um nome qualquer, enfim )\n",
    "dados = pd.read_csv('shoptrend.csv')"
   ]
  },
  {
   "cell_type": "code",
   "execution_count": 33,
   "id": "64eb9d42-0b77-40d7-bced-1922d5327f64",
   "metadata": {},
   "outputs": [
    {
     "name": "stdout",
     "output_type": "stream",
     "text": [
      "<class 'pandas.core.frame.DataFrame'>\n",
      "RangeIndex: 3900 entries, 0 to 3899\n",
      "Data columns (total 19 columns):\n",
      " #   Column                    Non-Null Count  Dtype  \n",
      "---  ------                    --------------  -----  \n",
      " 0   Customer ID               3900 non-null   int64  \n",
      " 1   Age                       3900 non-null   int64  \n",
      " 2   Gender                    3900 non-null   object \n",
      " 3   Item Purchased            3900 non-null   object \n",
      " 4   Category                  3900 non-null   object \n",
      " 5   Purchase Amount (USD)     3900 non-null   int64  \n",
      " 6   Location                  3900 non-null   object \n",
      " 7   Size                      3900 non-null   object \n",
      " 8   Color                     3900 non-null   object \n",
      " 9   Season                    3900 non-null   object \n",
      " 10  Review Rating             3900 non-null   float64\n",
      " 11  Subscription Status       3900 non-null   object \n",
      " 12  Payment Method            3900 non-null   object \n",
      " 13  Shipping Type             3900 non-null   object \n",
      " 14  Discount Applied          3900 non-null   object \n",
      " 15  Promo Code Used           3900 non-null   object \n",
      " 16  Previous Purchases        3900 non-null   int64  \n",
      " 17  Preferred Payment Method  3900 non-null   object \n",
      " 18  Frequency of Purchases    3900 non-null   object \n",
      "dtypes: float64(1), int64(4), object(14)\n",
      "memory usage: 579.0+ KB\n"
     ]
    }
   ],
   "source": [
    "# Visualizando nossas informações em busca de eventuais valores nulos e para conhecermos\n",
    "# o tipo de dado de cada coluna.\n",
    "dados.info()"
   ]
  },
  {
   "cell_type": "code",
   "execution_count": 34,
   "id": "dead39f6-5dd5-41a3-9eb2-d49033b91e54",
   "metadata": {},
   "outputs": [
    {
     "data": {
      "text/html": [
       "<div>\n",
       "<style scoped>\n",
       "    .dataframe tbody tr th:only-of-type {\n",
       "        vertical-align: middle;\n",
       "    }\n",
       "\n",
       "    .dataframe tbody tr th {\n",
       "        vertical-align: top;\n",
       "    }\n",
       "\n",
       "    .dataframe thead th {\n",
       "        text-align: right;\n",
       "    }\n",
       "</style>\n",
       "<table border=\"1\" class=\"dataframe\">\n",
       "  <thead>\n",
       "    <tr style=\"text-align: right;\">\n",
       "      <th></th>\n",
       "      <th>Customer ID</th>\n",
       "      <th>Age</th>\n",
       "      <th>Gender</th>\n",
       "      <th>Item Purchased</th>\n",
       "      <th>Category</th>\n",
       "      <th>Purchase Amount (USD)</th>\n",
       "      <th>Location</th>\n",
       "      <th>Size</th>\n",
       "      <th>Color</th>\n",
       "      <th>Season</th>\n",
       "      <th>Review Rating</th>\n",
       "      <th>Subscription Status</th>\n",
       "      <th>Payment Method</th>\n",
       "      <th>Shipping Type</th>\n",
       "      <th>Discount Applied</th>\n",
       "      <th>Promo Code Used</th>\n",
       "      <th>Previous Purchases</th>\n",
       "      <th>Preferred Payment Method</th>\n",
       "      <th>Frequency of Purchases</th>\n",
       "    </tr>\n",
       "  </thead>\n",
       "  <tbody>\n",
       "    <tr>\n",
       "      <th>0</th>\n",
       "      <td>1</td>\n",
       "      <td>55</td>\n",
       "      <td>Male</td>\n",
       "      <td>Blouse</td>\n",
       "      <td>Clothing</td>\n",
       "      <td>53</td>\n",
       "      <td>Kentucky</td>\n",
       "      <td>L</td>\n",
       "      <td>Gray</td>\n",
       "      <td>Winter</td>\n",
       "      <td>3.1</td>\n",
       "      <td>Yes</td>\n",
       "      <td>Credit Card</td>\n",
       "      <td>Express</td>\n",
       "      <td>Yes</td>\n",
       "      <td>Yes</td>\n",
       "      <td>14</td>\n",
       "      <td>Venmo</td>\n",
       "      <td>Fortnightly</td>\n",
       "    </tr>\n",
       "    <tr>\n",
       "      <th>1</th>\n",
       "      <td>2</td>\n",
       "      <td>19</td>\n",
       "      <td>Male</td>\n",
       "      <td>Sweater</td>\n",
       "      <td>Clothing</td>\n",
       "      <td>64</td>\n",
       "      <td>Maine</td>\n",
       "      <td>L</td>\n",
       "      <td>Maroon</td>\n",
       "      <td>Winter</td>\n",
       "      <td>3.1</td>\n",
       "      <td>Yes</td>\n",
       "      <td>Bank Transfer</td>\n",
       "      <td>Express</td>\n",
       "      <td>Yes</td>\n",
       "      <td>Yes</td>\n",
       "      <td>2</td>\n",
       "      <td>Cash</td>\n",
       "      <td>Fortnightly</td>\n",
       "    </tr>\n",
       "    <tr>\n",
       "      <th>2</th>\n",
       "      <td>3</td>\n",
       "      <td>50</td>\n",
       "      <td>Male</td>\n",
       "      <td>Jeans</td>\n",
       "      <td>Clothing</td>\n",
       "      <td>73</td>\n",
       "      <td>Massachusetts</td>\n",
       "      <td>S</td>\n",
       "      <td>Maroon</td>\n",
       "      <td>Spring</td>\n",
       "      <td>3.1</td>\n",
       "      <td>Yes</td>\n",
       "      <td>Cash</td>\n",
       "      <td>Free Shipping</td>\n",
       "      <td>Yes</td>\n",
       "      <td>Yes</td>\n",
       "      <td>23</td>\n",
       "      <td>Credit Card</td>\n",
       "      <td>Weekly</td>\n",
       "    </tr>\n",
       "  </tbody>\n",
       "</table>\n",
       "</div>"
      ],
      "text/plain": [
       "   Customer ID  Age Gender Item Purchased  Category  Purchase Amount (USD)  \\\n",
       "0            1   55   Male         Blouse  Clothing                     53   \n",
       "1            2   19   Male        Sweater  Clothing                     64   \n",
       "2            3   50   Male          Jeans  Clothing                     73   \n",
       "\n",
       "        Location Size   Color  Season  Review Rating Subscription Status  \\\n",
       "0       Kentucky    L    Gray  Winter            3.1                 Yes   \n",
       "1          Maine    L  Maroon  Winter            3.1                 Yes   \n",
       "2  Massachusetts    S  Maroon  Spring            3.1                 Yes   \n",
       "\n",
       "  Payment Method  Shipping Type Discount Applied Promo Code Used  \\\n",
       "0    Credit Card        Express              Yes             Yes   \n",
       "1  Bank Transfer        Express              Yes             Yes   \n",
       "2           Cash  Free Shipping              Yes             Yes   \n",
       "\n",
       "   Previous Purchases Preferred Payment Method Frequency of Purchases  \n",
       "0                  14                    Venmo            Fortnightly  \n",
       "1                   2                     Cash            Fortnightly  \n",
       "2                  23              Credit Card                 Weekly  "
      ]
     },
     "execution_count": 34,
     "metadata": {},
     "output_type": "execute_result"
    }
   ],
   "source": [
    "# Visualizando 3 linhas do nosso dataframe ( visualizando como está organizado nossos dados )\n",
    "dados.head(3)"
   ]
  },
  {
   "cell_type": "code",
   "execution_count": 35,
   "id": "903695ea-79b0-4568-b5ea-ef5b26309ed7",
   "metadata": {},
   "outputs": [
    {
     "name": "stdout",
     "output_type": "stream",
     "text": [
      "Top 10 produtos mais vendidos:\n",
      "Item Purchased\n",
      "Blouse        171\n",
      "Jewelry       171\n",
      "Pants         171\n",
      "Shirt         169\n",
      "Dress         166\n",
      "Sweater       164\n",
      "Jacket        163\n",
      "Belt          161\n",
      "Sunglasses    161\n",
      "Coat          161\n",
      "Name: count, dtype: int64\n",
      "\n",
      "Categorias mais populares:\n",
      "Category\n",
      "Clothing       1737\n",
      "Accessories    1240\n",
      "Footwear        599\n",
      "Outerwear       324\n",
      "Name: count, dtype: int64\n"
     ]
    }
   ],
   "source": [
    "# Produtos mais vendidos\n",
    "top_items = dados['Item Purchased'].value_counts().head(10)\n",
    "print(\"Top 10 produtos mais vendidos:\")\n",
    "print(top_items)\n",
    "\n",
    "# Categorias mais populares\n",
    "top_categorias = dados['Category'].value_counts()\n",
    "print(\"\\nCategorias mais populares:\")\n",
    "print(top_categorias)"
   ]
  },
  {
   "cell_type": "markdown",
   "id": "c6102f32-e1af-401d-91a5-8fa7feeb5391",
   "metadata": {},
   "source": [
    "**Objetivo da análise acima: Identificar os produtos e categorias mais procurados para alavancar vendas.**\n",
    "\n",
    " **O que fazer com o insight: Focar em estocar produtos mais populares e criar promoções em categorias específicas para aumentar vendas.**"
   ]
  },
  {
   "cell_type": "markdown",
   "id": "362c557e-ee1d-4788-be70-ed6ca4787c8c",
   "metadata": {},
   "source": [
    "**Produtos mais vendidos podem ser destacados em campanhas de marketing.**\n",
    "\n",
    "**Categorias populares podem ser o foco para promoções específicas por sazonalidade.**"
   ]
  },
  {
   "cell_type": "code",
   "execution_count": 43,
   "id": "c6085318-4bd8-492f-8bdc-b3edcaceed1c",
   "metadata": {},
   "outputs": [
    {
     "name": "stdout",
     "output_type": "stream",
     "text": [
      "\n",
      "Tendências sazonais de produtos:\n",
      "Item Purchased  Backpack  Belt  Blouse  Boots  Coat  Dress  Gloves  Handbag  \\\n",
      "Season                                                                        \n",
      "Fall                  34    41      42     35    34     36      37       48   \n",
      "Spring                39    41      46     40    46     43      42       36   \n",
      "Summer                45    39      43     38    42     47      29       35   \n",
      "Winter                25    40      40     31    39     40      32       34   \n",
      "\n",
      "Item Purchased  Hat  Hoodie  ...  Scarf  Shirt  Shoes  Shorts  Skirt  \\\n",
      "Season                       ...                                       \n",
      "Fall             50      36  ...     40     39     26      35     46   \n",
      "Spring           27      36  ...     41     42     40      47     46   \n",
      "Summer           37      31  ...     43     38     46      40     28   \n",
      "Winter           40      48  ...     33     50     38      35     38   \n",
      "\n",
      "Item Purchased  Sneakers  Socks  Sunglasses  Sweater  T-shirt  \n",
      "Season                                                         \n",
      "Fall                  31     42          39       42       39  \n",
      "Spring                39     40          33       52       38  \n",
      "Summer                36     42          37       28       30  \n",
      "Winter                39     35          52       42       40  \n",
      "\n",
      "[4 rows x 25 columns]\n"
     ]
    }
   ],
   "source": [
    "# Produtos mais comprados por estação\n",
    "tendencias_sazonais = dados.groupby('Season')['Item Purchased'].value_counts().unstack()\n",
    "print(\"\\nTendências sazonais de produtos:\")\n",
    "print(tendencias_sazonais)"
   ]
  },
  {
   "cell_type": "code",
   "execution_count": 37,
   "id": "127f4808-d187-4e29-88dd-e857f2a5e4ea",
   "metadata": {},
   "outputs": [
    {
     "data": {
      "image/png": "[encoded data removed]",
      "text/plain": [
       "<Figure size 1000x600 with 1 Axes>"
      ]
     },
     "metadata": {},
     "output_type": "display_data"
    }
   ],
   "source": [
    "# Gráfico para visualizar tendências sazonais\n",
    "import matplotlib.pyplot as plt\n",
    "\n",
    "tendencias_sazonais.T.plot(kind='bar', stacked=True, figsize=(10, 6), colormap='viridis')\n",
    "plt.title('Produtos mais vendidos por estação')\n",
    "plt.xlabel('Produto')\n",
    "plt.ylabel('Quantidade')\n",
    "plt.legend(title='Estação', bbox_to_anchor=(1.05, 1), loc='upper left')\n",
    "plt.tight_layout()\n",
    "plt.show()"
   ]
  },
  {
   "cell_type": "markdown",
   "id": "01b796ed-ff19-43c1-8233-744c785a5861",
   "metadata": {},
   "source": [
    "**Objetivo da análise acima: Entender quais produtos são mais comprados em cada estação para campanhas sazonais.**\n",
    "\n",
    "**O que fazer com o insight: Planejar estoques e promoções baseados em tendências sazonais.**"
   ]
  },
  {
   "cell_type": "markdown",
   "id": "7fa53dba-1c57-4bb2-b6c7-c217b7c87c92",
   "metadata": {},
   "source": [
    "**Com nossa análise acima, poderiamos oferecer promoções sazonais\n",
    "para os produtos mais populares de cada estação.**"
   ]
  },
  {
   "cell_type": "code",
   "execution_count": 38,
   "id": "532b5064-391a-4870-a15f-8041fb9353e0",
   "metadata": {},
   "outputs": [
    {
     "name": "stdout",
     "output_type": "stream",
     "text": [
      "\n",
      "Impacto dos descontos no valor médio das compras:\n",
      "Discount Applied\n",
      "No     60.130454\n",
      "Yes    59.279070\n",
      "Name: Purchase Amount (USD), dtype: float64\n",
      "\n",
      "Uso de promoções pelos clientes:\n",
      "Promo Code Used\n",
      "No     57.0\n",
      "Yes    43.0\n",
      "Name: proportion, dtype: float64\n"
     ]
    }
   ],
   "source": [
    "# Impacto dos descontos no valor médio das compras\n",
    "impacto_desconto = dados.groupby('Discount Applied')['Purchase Amount (USD)'].mean()\n",
    "print(\"\\nImpacto dos descontos no valor médio das compras:\")\n",
    "print(impacto_desconto)\n",
    "\n",
    "# Comparar o volume de compras entre clientes que usaram e não usaram promoções\n",
    "uso_promoçoes = dados['Promo Code Used'].value_counts(normalize=True) * 100\n",
    "print(\"\\nUso de promoções pelos clientes:\")\n",
    "print(uso_promoçoes)"
   ]
  },
  {
   "cell_type": "markdown",
   "id": "f2555c4a-cb41-4f44-9161-ac68982bad17",
   "metadata": {},
   "source": [
    "**Objetivo: Analisar se os descontos e promoções realmente aumentam o volume de compras.**\n",
    "\n",
    "**O que fazer com o insight: Ajustar estratégias de desconto para produtos que mais atraem consumidores.**\n",
    "\n",
    "**Produtos que geram alto ticket médio com descontos devem ser prioridade em campanhas.**\n",
    "\n",
    "**Idéia : Incentivar o uso de promoções para atrair clientes recorrentes.**"
   ]
  },
  {
   "cell_type": "code",
   "execution_count": 39,
   "id": "a4df1bfc-983e-41fd-92e7-36ab8f22b280",
   "metadata": {},
   "outputs": [
    {
     "name": "stdout",
     "output_type": "stream",
     "text": [
      "\n",
      "Top 10 clientes que mais gastaram:\n",
      "Customer ID\n",
      "2843    100\n",
      "96      100\n",
      "582     100\n",
      "1422    100\n",
      "3838    100\n",
      "862     100\n",
      "2215    100\n",
      "1592    100\n",
      "1457    100\n",
      "244     100\n",
      "Name: Purchase Amount (USD), dtype: int64\n",
      "\n",
      "Média de compras anteriores por frequência:\n",
      "Frequency of Purchases\n",
      "Annually          24.561189\n",
      "Bi-Weekly         24.787934\n",
      "Every 3 Months    24.960616\n",
      "Fortnightly       25.271218\n",
      "Monthly           25.278481\n",
      "Quarterly         26.854352\n",
      "Weekly            25.771800\n",
      "Name: Previous Purchases, dtype: float64\n"
     ]
    }
   ],
   "source": [
    "# Identificar os clientes mais valiosos\n",
    "top_clientes = dados.groupby('Customer ID')['Purchase Amount (USD)'].sum().sort_values(ascending=False).head(10)\n",
    "print(\"\\nTop 10 clientes que mais gastaram:\")\n",
    "print(top_clientes)\n",
    "\n",
    "# Analisar a retenção pelo histórico de compras\n",
    "Análise_retenção = dados.groupby('Frequency of Purchases')['Previous Purchases'].mean()\n",
    "print(\"\\nMédia de compras anteriores por frequência:\")\n",
    "print(Análise_retenção)"
   ]
  },
  {
   "cell_type": "markdown",
   "id": "e4918135-c030-45dd-b3b6-21a7fdf65d6c",
   "metadata": {},
   "source": [
    "**Objetivo da análise acima: Identificar os clientes que mais gastam para programas de fidelidade.**\n",
    "\n",
    "**O que fazer com o insight: Criar estratégias personalizadas, como cupons exclusivos.**\n",
    "\n",
    "**Oferecer descontos personalizados ou recompensas para os clientes do top 10.**\n",
    "\n",
    "**Desenvolver programas de retenção para clientes com alta frequência de compras.**"
   ]
  },
  {
   "cell_type": "code",
   "execution_count": 40,
   "id": "143e7f26-924c-4e2a-8383-8dd3b4a14f13",
   "metadata": {},
   "outputs": [
    {
     "name": "stdout",
     "output_type": "stream",
     "text": [
      "\n",
      "Percentual de uso dos métodos de pagamento:\n",
      "Payment Method\n",
      "Credit Card      18.0\n",
      "Venmo            17.0\n",
      "Cash             17.0\n",
      "PayPal           16.0\n",
      "Debit Card       16.0\n",
      "Bank Transfer    16.0\n",
      "Name: proportion, dtype: float64\n"
     ]
    }
   ],
   "source": [
    "# Métodos de pagamento mais usados\n",
    "metodos_pagamento = dados['Payment Method'].value_counts(normalize=True) * 100\n",
    "print(\"\\nPercentual de uso dos métodos de pagamento:\")\n",
    "print(round(metodos_pagamento))"
   ]
  },
  {
   "cell_type": "markdown",
   "id": "fa63f675-e1ae-4bf7-bbe4-e8dc0950b8c5",
   "metadata": {},
   "source": [
    "**Objetivo da análise acima: Ajustar métodos de pagamento oferecidos com base nas preferências.**\n",
    "\n",
    "**O que fazer com o insight: Garanta uma experiência fluida para os métodos mais usados.**\n",
    "\n",
    "**Se houver o Pix como um dos métodos de pagamento, tente alavancar esse método por se isentar de percentual de\n",
    "maquininha e ter um lucro liquido maior ( incentivando seus colabores a serem criativos e \n",
    "ofertar Pix no pagamento para clientes através de recompensas e etc )**\n",
    "\n",
    "**Garanta que os métodos de pagamento mais usados sejam rápidos e sem problemas.**\n",
    "\n",
    "**Incentive o uso de métodos digitais, como carteiras digitais, com cashback.**"
   ]
  },
  {
   "cell_type": "code",
   "execution_count": 41,
   "id": "12ae3187-e924-451c-85b5-49e85a9e1480",
   "metadata": {},
   "outputs": [
    {
     "name": "stdout",
     "output_type": "stream",
     "text": [
      "Lucro Atual: $233,081.00\n",
      "Lucro Projetado: $349,621.50\n",
      "Crescimento Percentual: 50.00%\n"
     ]
    }
   ],
   "source": [
    "import pandas as pd\n",
    "\n",
    "# Carregar os dados\n",
    "caminho_arquivo = 'shoptrend.csv'\n",
    "dados = pd.read_csv(caminho_arquivo)\n",
    "\n",
    "# Calcular lucros\n",
    "lucro_atual = dados['Purchase Amount (USD)'].sum()\n",
    "crescimento_descontos = 0.10\n",
    "crescimento_sazonal = 0.15\n",
    "crescimento_clientes_top = 0.20\n",
    "crescimento_otimizacao_pagamento = 0.05\n",
    "total_crescimento = 1 + (crescimento_descontos + crescimento_sazonal + crescimento_clientes_top + crescimento_otimizacao_pagamento)\n",
    "\n",
    "lucro_projetado = lucro_atual * total_crescimento\n",
    "percentual_crescimento = ((lucro_projetado - lucro_atual) / lucro_atual) * 100\n",
    "\n",
    "print(f\"Lucro Atual: ${lucro_atual:,.2f}\")\n",
    "print(f\"Lucro Projetado: ${lucro_projetado:,.2f}\")\n",
    "print(f\"Crescimento Percentual: {percentual_crescimento:.2f}%\")"
   ]
  },
  {
   "cell_type": "code",
   "execution_count": 42,
   "id": "79676dc6-cee0-4ccf-861c-d59bc885723c",
   "metadata": {},
   "outputs": [
    {
     "data": {
      "text/html": [
       "\n",
       "        <iframe\n",
       "            width=\"100%\"\n",
       "            height=\"650\"\n",
       "            src=\"http://127.0.0.1:8051/\"\n",
       "            frameborder=\"0\"\n",
       "            allowfullscreen\n",
       "            \n",
       "        ></iframe>\n",
       "        "
      ],
      "text/plain": [
       "<IPython.lib.display.IFrame at 0x1aa93e5d750>"
      ]
     },
     "metadata": {},
     "output_type": "display_data"
    }
   ],
   "source": [
    "import pandas as pd\n",
    "import plotly.graph_objects as go\n",
    "from dash import Dash, dcc, html\n",
    "\n",
    "# Carregar os dados\n",
    "caminho_arquivo = 'shoptrend.csv'\n",
    "dados = pd.read_csv(caminho_arquivo)\n",
    "\n",
    "# Calcular lucro atual e projetado\n",
    "lucro_atual = dados['Purchase Amount (USD)'].sum()\n",
    "\n",
    "crescimento_descontos = 0.10\n",
    "crescimento_sazonal = 0.15\n",
    "crescimento_clientes_top = 0.20\n",
    "crescimento_otimizacao_pagamento = 0.05\n",
    "total_crescimento = 1 + (crescimento_descontos + crescimento_sazonal + crescimento_clientes_top + crescimento_otimizacao_pagamento)\n",
    "\n",
    "lucro_projetado = lucro_atual * total_crescimento\n",
    "\n",
    "percentual_crescimento = ((lucro_projetado - lucro_atual) / lucro_atual) * 100\n",
    "\n",
    "# Criando o aplicativo Dash para fazermos nosso dashboard simples\n",
    "app = Dash(__name__)\n",
    "\n",
    "app.layout = html.Div([\n",
    "    html.H1(\"Dashboard ShopTrend\", style={'textAlign': 'center'}),\n",
    "\n",
    "    # Cards para lucro atual e projetado\n",
    "    html.Div([\n",
    "        html.Div([\n",
    "            html.H3(\"Lucro Atual\"),\n",
    "            html.P(f\"${lucro_atual:,.2f}\", style={'fontSize': '24px', 'fontWeight': 'bold'})\n",
    "        ], style={'width': '45%', 'display': 'inline-block', 'textAlign': 'center', 'padding': '10px', 'border': '1px solid #ddd', 'borderRadius': '10px', 'boxShadow': '2px 2px 5px rgba(0, 0, 0, 0.1)'}),\n",
    "\n",
    "        html.Div([\n",
    "            html.H3(\"Lucro Projetado\"),\n",
    "            html.P(f\"${lucro_projetado:,.2f}\", style={'fontSize': '24px', 'fontWeight': 'bold', 'color': 'green'})\n",
    "        ], style={'width': '45%', 'display': 'inline-block', 'textAlign': 'center', 'padding': '10px', 'border': '1px solid #ddd', 'borderRadius': '10px', 'boxShadow': '2px 2px 5px rgba(0, 0, 0, 0.1)', 'marginLeft': '10px'})\n",
    "    ], style={'display': 'flex', 'justifyContent': 'center', 'margin': '20px 0'}),\n",
    "\n",
    "    # Gráfico de crescimento percentual\n",
    "    dcc.Graph(\n",
    "        figure={\n",
    "            'data': [\n",
    "                go.Bar(\n",
    "                    x=['Lucro Atual', 'Lucro Projetado'],\n",
    "                    y=[lucro_atual, lucro_projetado],\n",
    "                    text=[f\"${lucro_atual:,.2f}\", f\"${lucro_projetado:,.2f}\"],\n",
    "                    textposition='auto',\n",
    "                    marker_color=['blue', 'green']\n",
    "                )\n",
    "            ],\n",
    "            'layout': go.Layout(\n",
    "                title='Comparação de Lucros',\n",
    "                xaxis={'title': 'Cenário'},\n",
    "                yaxis={'title': 'Lucros (USD)'}\n",
    "            )\n",
    "        }\n",
    "    ),\n",
    "\n",
    "    # Insights Chave\n",
    "    html.Div([\n",
    "        html.H3(\"Insights para Alavancagem de Vendas\"),\n",
    "        html.Ul([\n",
    "            html.Li(\"Implementar mais promoções e descontos para aumentar as vendas.\"),\n",
    "            html.Li(\"Focar em produtos sazonais e mais vendidos para campanhas.\"),\n",
    "            html.Li(\"Criar programas de fidelidade para os clientes mais valiosos.\"),\n",
    "            html.Li(\"Otimizar métodos de pagamento para maior conveniência.\")\n",
    "        ], style={'fontSize': '18px'})\n",
    "    ], style={'marginTop': '20px', 'padding': '10px', 'border': '1px solid #ddd', 'borderRadius': '10px', 'boxShadow': '2px 2px 5px rgba(0, 0, 0, 0.1)'})\n",
    "])\n",
    "\n",
    "if __name__ == '__main__':\n",
    "    app.run_server(port=8051)"
   ]
  },
  {
   "cell_type": "markdown",
   "id": "33aae6b6-1afc-49cb-b886-54bec92e82de",
   "metadata": {},
   "source": [
    "# Projeto finalizado ( Análise exploratória de dados )\n",
    "\n",
    "**Acima, fizemos uma análise exploratória completa pra gerar insights, e**\n",
    "\n",
    "**ajudarmos nossa empresa a conseguir aumentar seu lucro exponencialmente**\n",
    "\n",
    "**Meu agradecimento a todos que chegaram até aqui**"
   ]
  }
 ],
 "metadata": {
  "kernelspec": {
   "display_name": "Python 3 (ipykernel)",
   "language": "python",
   "name": "python3"
  },
  "language_info": {
   "codemirror_mode": {
    "name": "ipython",
    "version": 3
   },
   "file_extension": ".py",
   "mimetype": "text/x-python",
   "name": "python",
   "nbconvert_exporter": "python",
   "pygments_lexer": "ipython3",
   "version": "3.11.7"
  }
 },
 "nbformat": 4,
 "nbformat_minor": 5
}
